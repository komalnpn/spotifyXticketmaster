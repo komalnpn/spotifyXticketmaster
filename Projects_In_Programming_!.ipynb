{
  "cells": [
    {
      "cell_type": "markdown",
      "metadata": {
        "id": "R06bG3YxdAAa"
      },
      "source": [
        "#**Music Preferences and Local Events**#\n",
        "\n",
        "#Presented by:#\n",
        "**Aabaran Paudel**\n",
        "\n",
        "**Ashok Timsina**\n",
        "\n",
        "**Komal Neupane**"
      ]
    },
    {
      "cell_type": "markdown",
      "metadata": {
        "id": "pV6ln65yb478"
      },
      "source": [
        "\n",
        "\n",
        "\n",
        "#Objective#\n",
        "This project aims to provide personalized music recommendations and relevant local events based on a user's Spotify top tracks and geographic location. By leveraging the Spotify Web API and the Ticketmaster API, the project integrates user music preferences with nearby events to enhance the overall user experience.\n",
        "\n",
        "#Components#\n",
        "Spotify Top Tracks Analysis:\n",
        "\n",
        "*Fetching Data:* Retrieve the user's top tracks from Spotify using the Spotify Web API. This includes track names, artists, and track IDs.\n",
        "Genre Analysis: Utilize the spotipy library to analyze the genres associated with each track's artists. This step aggregates and identifies the genres that define the user's music taste.\n",
        "User Location Detection:\n",
        "\n",
        "*Event Retrieval:* Fetch local events from the Ticketmaster API based on the user's location. The events are filtered and displayed to show relevant concerts and music-related activities happening nearby.\n",
        "\n",
        "\n",
        "#Workflow#\n",
        "1) Retrieve User's Top Tracks:\n",
        "\n",
        "Use Spotify Web API to get the top tracks for a user, including details about the tracks and associated artists.\n",
        "\n",
        "2)Analyze Track Genres:\n",
        "\n",
        "Extract genres from the tracks' artists using the spotipy library to understand the user's music preferences.\n",
        "\n",
        "3)Find Local Events:\n",
        "\n",
        "Query the Ticketmaster API to find and display local music events based on the location entered by the user.\n",
        "\n",
        "This project aims to combine music preferences with local event information to provide a personalized experience, recommending nearby music events that align with the user’s taste in music."
      ]
    },
    {
      "cell_type": "code",
      "execution_count": 11,
      "metadata": {
        "id": "TrHnYmtmjX9n"
      },
      "outputs": [],
      "source": [
        "import requests\n",
        "from google.colab import userdata\n",
        "from requests.auth import HTTPBasicAuth"
      ]
    },
    {
      "cell_type": "markdown",
      "metadata": {
        "id": "pe4fuwDL3BD8"
      },
      "source": [
        " ***** Update this before running the code. *****"
      ]
    },
    {
      "cell_type": "code",
      "execution_count": 12,
      "metadata": {
        "id": "c9Q664H-2t4b"
      },
      "outputs": [],
      "source": [
        "city = \"Los Angeles\"\n",
        "state =\"CA\"\n",
        "country = \"US\""
      ]
    },
    {
      "cell_type": "markdown",
      "metadata": {
        "id": "DO0EekExajJb"
      },
      "source": [
        "#**Fetching Spotify Top Tracks**#\n",
        "We use the Spotify Web API to fetch a user's top tracks over the long term. We define a function fetch_web_api to handle HTTP requests and manage authorization with a bearer token. The get_top_tracks function requests the top 5 tracks from Spotify and processes the response to extract track names, artist names, and track IDs. This data is printed and stored for further analysis."
      ]
    },
    {
      "cell_type": "code",
      "execution_count": 13,
      "metadata": {
        "colab": {
          "base_uri": "https://localhost:8080/"
        },
        "id": "KXrzMZPKiaZ-",
        "outputId": "27288bd1-89db-4b28-f817-5038ef8ac438"
      },
      "outputs": [
        {
          "output_type": "stream",
          "name": "stdout",
          "text": [
            "Someone In The Crowd by Emma Stone, Callie Hernandez, Sonoya Mizuno, Jessica Rothe\n",
            "Kaalpanik / Maayajastai by Bartika Eam Rai\n",
            "Piano Man by Billy Joel\n",
            "Najeek by Bartika Eam Rai\n",
            "Chaudhvin Ka Chand Ho (From \"Chaudhvin Ka Chand\") by Mohammed Rafi\n"
          ]
        }
      ],
      "source": [
        "import requests\n",
        "\n",
        "# Authorization token that must have been created previously\n",
        "token = userdata.get('Spotify_token')\n",
        "def fetch_web_api(endpoint, method, body=None):\n",
        "    url = f'https://api.spotify.com/{endpoint}'\n",
        "    headers = {\n",
        "        'Authorization': f'Bearer {token}',\n",
        "        'Content-Type': 'application/json'\n",
        "    }\n",
        "    response = requests.request(method, url, headers=headers, json=body)\n",
        "    response.raise_for_status()  # Raise an error for bad responses (4xx and 5xx)\n",
        "    return response.json()\n",
        "\n",
        "def get_top_tracks():\n",
        "    # Endpoint reference: https://developer.spotify.com/documentation/web-api/reference/get-users-top-artists-and-tracks\n",
        "    endpoint = 'v1/me/top/tracks?time_range=long_term&limit=5'\n",
        "    response_data = fetch_web_api(endpoint, 'GET')\n",
        "    return response_data['items']\n",
        "\n",
        "top_tracks = get_top_tracks()\n",
        "ids=[]\n",
        "for track in top_tracks:\n",
        "    name = track['name']\n",
        "    artists = ', '.join(artist['name'] for artist in track['artists'])\n",
        "    print(f'{name} by {artists}')\n",
        "    id= track['id']\n",
        "    ids.append(id)"
      ]
    },
    {
      "cell_type": "markdown",
      "metadata": {
        "id": "H1KO4yYta5Jc"
      },
      "source": [
        "#**Analyzing Track Genres with Spotipy**#\n",
        "We use the spotipy library to analyze genres of the top tracks retrieved from Spotify. After installing spotipy, we initialize it with client credentials and define a get_genres function. This function retrieves genre information for each track's artists by making API calls and aggregates all genres into a unique list. The resulting genres are printed out for further insights."
      ]
    },
    {
      "cell_type": "code",
      "execution_count": 14,
      "metadata": {
        "colab": {
          "base_uri": "https://localhost:8080/"
        },
        "id": "NVSDImmlbFJa",
        "outputId": "e5abfb5e-78e0-46a9-b5f3-f2b81eb15c5e"
      },
      "outputs": [
        {
          "output_type": "stream",
          "name": "stdout",
          "text": [
            "Collecting spotipy\n",
            "  Downloading spotipy-2.24.0-py3-none-any.whl.metadata (4.9 kB)\n",
            "Collecting redis>=3.5.3 (from spotipy)\n",
            "  Downloading redis-5.0.8-py3-none-any.whl.metadata (9.2 kB)\n",
            "Requirement already satisfied: requests>=2.25.0 in /usr/local/lib/python3.10/dist-packages (from spotipy) (2.32.3)\n",
            "Requirement already satisfied: urllib3>=1.26.0 in /usr/local/lib/python3.10/dist-packages (from spotipy) (2.0.7)\n",
            "Requirement already satisfied: async-timeout>=4.0.3 in /usr/local/lib/python3.10/dist-packages (from redis>=3.5.3->spotipy) (4.0.3)\n",
            "Requirement already satisfied: charset-normalizer<4,>=2 in /usr/local/lib/python3.10/dist-packages (from requests>=2.25.0->spotipy) (3.3.2)\n",
            "Requirement already satisfied: idna<4,>=2.5 in /usr/local/lib/python3.10/dist-packages (from requests>=2.25.0->spotipy) (3.10)\n",
            "Requirement already satisfied: certifi>=2017.4.17 in /usr/local/lib/python3.10/dist-packages (from requests>=2.25.0->spotipy) (2024.8.30)\n",
            "Downloading spotipy-2.24.0-py3-none-any.whl (30 kB)\n",
            "Downloading redis-5.0.8-py3-none-any.whl (255 kB)\n",
            "\u001b[2K   \u001b[90m━━━━━━━━━━━━━━━━━━━━━━━━━━━━━━━━━━━━━━━━\u001b[0m \u001b[32m255.6/255.6 kB\u001b[0m \u001b[31m2.8 MB/s\u001b[0m eta \u001b[36m0:00:00\u001b[0m\n",
            "\u001b[?25hInstalling collected packages: redis, spotipy\n",
            "Successfully installed redis-5.0.8 spotipy-2.24.0\n"
          ]
        }
      ],
      "source": [
        "!pip install spotipy"
      ]
    },
    {
      "cell_type": "code",
      "execution_count": 15,
      "metadata": {
        "colab": {
          "base_uri": "https://localhost:8080/"
        },
        "id": "mlnw_DOo2n7u",
        "outputId": "d119586b-94d2-4472-ae32-65d57aae03c9"
      },
      "outputs": [
        {
          "output_type": "stream",
          "name": "stdout",
          "text": [
            "['gold', 'nepali', 'indie', 'classic', 'piano', 'bollywood', 'filmi', 'album', 'hollywood', 'soft', 'rock', 'singer-songwriter', 'mellow']\n"
          ]
        }
      ],
      "source": [
        "import spotipy\n",
        "from spotipy.oauth2 import SpotifyClientCredentials\n",
        "CLIENT_ID = userdata.get('spotipy_client_id')\n",
        "CLIENT_SECRET = userdata.get('spotipy_client_secret')\n",
        "\n",
        "def get_genres(track_id):\n",
        "    sp = spotipy.Spotify(auth_manager=SpotifyClientCredentials(client_id=CLIENT_ID, client_secret=CLIENT_SECRET))\n",
        "\n",
        "    track_data = sp.track(track_id)\n",
        "\n",
        "    artist_ids = []\n",
        "\n",
        "    for artist in track_data[\"artists\"]:\n",
        "        artist_ids.append(artist[\"id\"])\n",
        "\n",
        "    artists_data = sp.artists(artist_ids)\n",
        "\n",
        "    genres = []\n",
        "\n",
        "    for artist in artists_data[\"artists\"]:\n",
        "        genres += artist[\"genres\"]\n",
        "\n",
        "    genres = set(genres)  # Removes duplicates by using a set\n",
        "\n",
        "    return genres\n",
        "\n",
        "# List of track IDs (assuming ids is defined somewhere in your code)\n",
        "genres_list = []\n",
        "for id in ids:\n",
        "    genres = get_genres(id)\n",
        "    genres_list.append(list(genres))  # Convert set to list and append\n",
        "flat_genres_list = list(set([genre for sublist in genres_list for genre in sublist]))\n",
        "#print(flat_genres_list)\n",
        "\n",
        "\n",
        "# breaking two or three word genre into one\n",
        "preferred_genre = []\n",
        "for genre in flat_genres_list:\n",
        "  preferred_genre.append(genre.split(' '))\n",
        "\n",
        "preferred_genre_ = list(set([genre for sublist in preferred_genre for genre in sublist]))\n",
        "print(preferred_genre_)"
      ]
    },
    {
      "cell_type": "markdown",
      "metadata": {
        "id": "3NysDqXybiyt"
      },
      "source": [
        "#**Fetching Local Events from Ticketmaster**#\n",
        "We define a function get_events to fetch local events using the Ticketmaster API. The function constructs an API request to retrieve events and their details, including date, time, venue, genre, and ticket status. The results are printed to provide an overview of upcoming events relevant to the user's location enter in the beginning.\n",
        "\n"
      ]
    },
    {
      "cell_type": "code",
      "execution_count": 16,
      "metadata": {
        "colab": {
          "base_uri": "https://localhost:8080/"
        },
        "id": "ffezl_xUqGeK",
        "outputId": "6782cae1-d184-4856-d0d4-af8506e991d8"
      },
      "outputs": [
        {
          "output_type": "stream",
          "name": "stdout",
          "text": [
            "Found 51 events:\n",
            "Event: Goldford\n",
            "Date: 2024-09-19\n",
            "Time: 18:30:00\n",
            "Venue: The Moroccan Lounge\n",
            "Genre: Rock\n",
            "Ticket Status: onsale\n",
            "More Info: https://www.ticketmaster.com/goldford-los-angeles-california-09-19-2024/event/090060D4E70E3EF2\n",
            "----------------------------------------------------\n",
            "Event: Everclear\n",
            "Date: 2024-09-19\n",
            "Time: 19:00:00\n",
            "Venue: The Regent Theater\n",
            "Genre: Rock\n",
            "Ticket Status: onsale\n",
            "More Info: https://www.ticketmaster.com/everclear-los-angeles-california-09-19-2024/event/0900609381361698\n",
            "----------------------------------------------------\n",
            "Event: The Babies\n",
            "Date: 2024-09-19\n",
            "Time: 19:00:00\n",
            "Venue: Teragram Ballroom\n",
            "Genre: Rock\n",
            "Ticket Status: onsale\n",
            "More Info: https://www.ticketmaster.com/the-babies-los-angeles-california-09-19-2024/event/09006093951523E2\n",
            "----------------------------------------------------\n",
            "Event: Friday Pilots Club - The Nowhere Tour\n",
            "Date: 2024-09-19\n",
            "Time: 19:00:00\n",
            "Venue: Echoplex\n",
            "Genre: Rock\n",
            "Ticket Status: onsale\n",
            "More Info: https://concerts.livenation.com/friday-pilots-club-the-nowhere-tour-los-angeles-california-09-19-2024/event/090060A9E67A58A2\n",
            "----------------------------------------------------\n",
            "Event: Spitalfield\n",
            "Date: 2024-09-19\n",
            "Time: 19:00:00\n",
            "Venue: The Peppermint Club\n",
            "Genre: Rock\n",
            "Ticket Status: onsale\n",
            "More Info: https://www.ticketmaster.com/spitalfield-los-angeles-california-09-19-2024/event/090060F6CC32B04A\n",
            "----------------------------------------------------\n",
            "Event: Andra Day\n",
            "Date: 2024-09-19\n",
            "Time: 20:00:00\n",
            "Venue: El Rey Theatre - Los Angeles\n",
            "Genre: Rock\n",
            "Ticket Status: onsale\n",
            "More Info: https://www.ticketmaster.com/event/Z7r9jZ1A7GS7A\n",
            "----------------------------------------------------\n",
            "Event: Nacho Corrupted Presents - Pre C.Y. Fest\n",
            "Date: 2024-09-20\n",
            "Time: 14:00:00\n",
            "Venue: Echoplex\n",
            "Genre: Rock\n",
            "Ticket Status: onsale\n",
            "More Info: https://concerts.livenation.com/nacho-corrupted-presents-pre-cy-fest-los-angeles-california-09-20-2024/event/090060685F7A0B2C\n",
            "----------------------------------------------------\n",
            "Event: The Templars W/Special Guests: Rixe, Castillo, Ultra Sect & More! \n",
            "Date: 2024-09-20\n",
            "Time: 18:00:00\n",
            "Venue: The Regent Theater\n",
            "Genre: Rock\n",
            "Ticket Status: onsale\n",
            "More Info: https://www.ticketmaster.com/the-templars-wspecial-guests-rixe-castillo-los-angeles-california-09-20-2024/event/09005F6D749D0B23\n",
            "----------------------------------------------------\n",
            "Event: Rumours: The Ultimate Fleetwood Mac Tribute w/ Sarah Christine\n",
            "Date: 2024-09-20\n",
            "Time: 20:00:00\n",
            "Venue: The Bourbon Room\n",
            "Genre: Rock\n",
            "Ticket Status: onsale\n",
            "More Info: https://www.ticketweb.com/event/rumours-the-ultimate-fleetwood-mac-the-bourbon-room-tickets/13633903\n",
            "----------------------------------------------------\n",
            "Event: Mortiis\n",
            "Date: 2024-09-21\n",
            "Time: 18:00:00\n",
            "Venue: Teragram Ballroom\n",
            "Genre: Rock\n",
            "Ticket Status: onsale\n",
            "More Info: https://www.ticketmaster.com/mortiis-los-angeles-california-09-21-2024/event/090060CAB4692F3C\n",
            "----------------------------------------------------\n",
            "Event: PULP\n",
            "Date: 2024-09-21\n",
            "Time: 19:00:00\n",
            "Venue: Hollywood Forever\n",
            "Genre: Rock\n",
            "Ticket Status: onsale\n",
            "More Info: https://www.ticketweb.com/event/pulp-hollywood-forever-tickets/13371864\n",
            "----------------------------------------------------\n",
            "Event: Gavin Turek with Cor.Ece, & RM47\n",
            "Date: 2024-09-21\n",
            "Time: 19:00:00\n",
            "Venue: Echoplex\n",
            "Genre: Rock\n",
            "Ticket Status: onsale\n",
            "More Info: https://concerts.livenation.com/gavin-turek-with-corece-rm47-los-angeles-california-09-21-2024/event/090060C3EA5F232C\n",
            "----------------------------------------------------\n",
            "Event: Substance + Restless Nites Presents: Sacred Skin - Born in Fire - Reco\n",
            "Date: 2024-09-21\n",
            "Time: 19:00:00\n",
            "Venue: The Echo\n",
            "Genre: Rock\n",
            "Ticket Status: onsale\n",
            "More Info: https://concerts.livenation.com/substance-restless-nites-presents-sacred-skin-los-angeles-california-09-21-2024/event/090060DE1D3B2A0E\n",
            "----------------------------------------------------\n",
            "Event: Emo Karaoke\n",
            "Date: 2024-09-21\n",
            "Time: 21:30:00\n",
            "Venue: The Moroccan Lounge\n",
            "Genre: Rock\n",
            "Ticket Status: onsale\n",
            "More Info: https://www.ticketmaster.com/emo-karaoke-los-angeles-california-09-21-2024/event/09006124E6183026\n",
            "----------------------------------------------------\n"
          ]
        }
      ],
      "source": [
        "import requests\n",
        "from datetime import datetime, timedelta\n",
        "\n",
        "# function to get events\n",
        "def get_events(api_key, **kwargs):\n",
        "    base_url = \"https://app.ticketmaster.com/discovery/v2/events.json\"\n",
        "\n",
        "    # parameters for api call\n",
        "    params = {\n",
        "        \"apikey\": api_key,\n",
        "        \"size\": 200,\n",
        "        \"sort\": \"date,asc\"\n",
        "    }\n",
        "\n",
        "    # Add any additional parameters passed to the function\n",
        "    params.update(kwargs)\n",
        "\n",
        "    # if startDateTime and endDateTime are not provided, set them to this week\n",
        "    if \"startDateTime\" not in params and \"endDateTime\" not in params:\n",
        "        today = datetime.now()\n",
        "        start_of_week = today - timedelta(days=today.weekday())\n",
        "        end_of_week = start_of_week + timedelta(days=6)\n",
        "        params[\"startDateTime\"] = start_of_week.strftime('%Y-%m-%dT%H:%M:%SZ')\n",
        "        params[\"endDateTime\"] = end_of_week.strftime('%Y-%m-%dT%H:%M:%SZ')\n",
        "\n",
        "    # request response from the api\n",
        "    response = requests.get(base_url, params=params)\n",
        "\n",
        "    # 200 status code is for success\n",
        "    if response.status_code == 200:\n",
        "        data = response.json()\n",
        "        return data.get(\"_embedded\", {}).get(\"events\", [])\n",
        "    else:\n",
        "        print(f\"Error: {response.status_code}\")\n",
        "        return []\n",
        "\n",
        "\n",
        "# function to print events to display to the user\n",
        "def print_events(events, preferred_list):\n",
        "    for event in events:\n",
        "      if 'classifications' in event and event['classifications']:\n",
        "            genre = event['classifications'][0].get('genre', {}).get('name', 'N/A') # getting genre\n",
        "            if genre.lower()in preferred_list: # if genre is mached from the genre retrived from spotify, print\n",
        "\n",
        "              # Printing the event information\n",
        "              print(f\"Event: {event['name']}\")\n",
        "              print(f\"Date: {event['dates']['start'].get('localDate', 'N/A')}\")\n",
        "              print(f\"Time: {event['dates']['start'].get('localTime', 'N/A')}\")\n",
        "              print(f\"Venue: {event['_embedded']['venues'][0]['name']}\")\n",
        "              print(f\"Genre: {genre}\")\n",
        "              print(f\"Ticket Status: {event['dates']['status']['code']}\")\n",
        "              print(f\"More Info: {event['url']}\")\n",
        "              print(\"----------------------------------------------------\")\n",
        "\n",
        "api_key = userdata.get('ticketmaster_api')  # API Key\n",
        "\n",
        "# Example usage\n",
        "events = get_events(api_key,\n",
        "                    city = city,\n",
        "                    stateCode= state,\n",
        "                    countryCode= country,\n",
        "                    classificationName=[\"music\"],\n",
        "                    includeFamily=\"yes\")\n",
        "\n",
        "# Displaying the events to user\n",
        "if events:\n",
        "    print(f\"Found {len(events)} events:\")\n",
        "    print_events(events, preferred_genre_)\n",
        "else:\n",
        "    print(\"No events found.\")"
      ]
    }
  ],
  "metadata": {
    "colab": {
      "provenance": []
    },
    "kernelspec": {
      "display_name": "Python 3",
      "name": "python3"
    },
    "language_info": {
      "name": "python"
    }
  },
  "nbformat": 4,
  "nbformat_minor": 0
}